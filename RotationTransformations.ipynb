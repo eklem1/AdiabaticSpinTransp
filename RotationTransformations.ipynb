{
 "cells": [
  {
   "cell_type": "markdown",
   "id": "2c2aac5e-ef25-4e6f-9e8c-0e05fc59a26c",
   "metadata": {},
   "source": [
    "## The adiabatic parameter for rotations\n",
    "Emma Klemets   \n",
    "Sept. 2022   \n",
    "Full documentation of the theory can be found at: https://www.overleaf.com/read/rfkkhhwwfjct"
   ]
  },
  {
   "cell_type": "code",
   "execution_count": 61,
   "id": "53830427-879e-4908-afe5-acb4173d3624",
   "metadata": {},
   "outputs": [],
   "source": [
    "import numpy as np\n",
    "import matplotlib.pyplot as plt\n",
    "import sympy as sp\n",
    "from IPython.display import display, Markdown, Math"
   ]
  },
  {
   "cell_type": "markdown",
   "id": "e7d40616-822e-4deb-bae6-b2741d284634",
   "metadata": {},
   "source": [
    "This code follows the method in \n",
    "> Use of Rotating Coordinates in Magnetic Resonance Problems   \n",
    "I. I. Rabi, N. F. Ramsey, and J. Schwinger   \n",
    "Rev. Mod. Phys. 26, 167 (1954).   \n",
    "> https://doi.org/10.1103/RevModPhys.26.167\n",
    "\n",
    "Initially, the spin points along the $+y$ direction, and so does the magnetic field.  Then, the magnetic field begins to slowly rotate until pointing along the $+z$ direction.  In the adiabatic limit, where the magnetic field vector changes slowly compared to the Larmor frequency, the spin is dragged along with the magnetic field.\n",
    "\n",
    "This is done by transforming to a doubly rotating frame of reference where the Bloch equation is trivial to solve. Then using the intial condition of the polarization vector, the full time dependant solution is transformed back into the lab frame.\n",
    "\n",
    "<p align=\"middle\">\n",
    "<img align=\"middle\" src=\"./Photos/frames.jpg\" width=\"700\" title=\"Different frames of reference\" />  \n",
    "</p>"
   ]
  },
  {
   "cell_type": "markdown",
   "id": "4cd0a0eb-1690-4f05-9e6c-7aedd055f67d",
   "metadata": {},
   "source": [
    "$\\vec{B}$: Magnetic field , changes from $+y$ to $+z$   \n",
    "$\\vec{\\Omega}$: Angular frequency of the changing magnetic field in the UCN frame   \n",
    "$\\vec{\\omega_L}$: Larmor precession frequency due to $\\vec{B}$   \n",
    "$\\vec{a}$: Angular frequency of the precession seen in $F_{fot}$     \n",
    "$$\n",
    "\\vec{a} = -\\vec{\\omega}_{eff} = - (\\vec{\\Omega} + \\vec{\\omega_L}) \n",
    "\\implies a = \\sqrt{\\Omega^2 + \\omega_L^2} = \\omega_{eff}\n",
    "$$\n",
    "    \n",
    "$\\beta$: The angle between $\\vec{B}_{eff}$ (and $ \\vec{a}$) and the $y'$ axis in $F_{fot}$   \n"
   ]
  },
  {
   "cell_type": "markdown",
   "id": "9a683703-bfae-4b47-ab9e-be333e55d64b",
   "metadata": {},
   "source": [
    "<p align=\"middle\">\n",
    "<img align=\"middle\" src=\"./Photos/transf_2.jpg\" width=\"700\" title=\"All the rotating frames of reference\" />  \n",
    "</p>"
   ]
  },
  {
   "cell_type": "code",
   "execution_count": 62,
   "id": "32405916-7327-4f31-a347-a5e909e6a7b3",
   "metadata": {},
   "outputs": [
    {
     "data": {
      "text/latex": [
       "$\\displaystyle R_{A}{\\left(\\Omega t \\right)} = \\left[\\begin{matrix}1 & 0 & 0\\\\0 & \\cos{\\left(\\Omega t \\right)} & \\sin{\\left(\\Omega t \\right)}\\\\0 & - \\sin{\\left(\\Omega t \\right)} & \\cos{\\left(\\Omega t \\right)}\\end{matrix}\\right]$"
      ],
      "text/plain": [
       "Eq(R_{A}(\\Omega*t), Matrix([\n",
       "[1,              0,             0],\n",
       "[0,  cos(\\Omega*t), sin(\\Omega*t)],\n",
       "[0, -sin(\\Omega*t), cos(\\Omega*t)]]))"
      ]
     },
     "metadata": {},
     "output_type": "display_data"
    },
    {
     "data": {
      "text/latex": [
       "$\\displaystyle R_{B}{\\left(\\beta \\right)} = \\left[\\begin{matrix}\\cos{\\left(\\beta \\right)} & - \\sin{\\left(\\beta \\right)} & 0\\\\\\sin{\\left(\\beta \\right)} & \\cos{\\left(\\beta \\right)} & 0\\\\0 & 0 & 1\\end{matrix}\\right]$"
      ],
      "text/plain": [
       "Eq(R_{B}(\\beta), Matrix([\n",
       "[cos(\\beta), -sin(\\beta), 0],\n",
       "[sin(\\beta),  cos(\\beta), 0],\n",
       "[         0,           0, 1]]))"
      ]
     },
     "metadata": {},
     "output_type": "display_data"
    },
    {
     "data": {
      "text/latex": [
       "$\\displaystyle R_{C}{\\left(\\omega_{eff} t \\right)} = \\left[\\begin{matrix}\\cos{\\left(\\omega_{eff} t \\right)} & 0 & \\sin{\\left(\\omega_{eff} t \\right)}\\\\0 & 1 & 0\\\\- \\sin{\\left(\\omega_{eff} t \\right)} & 0 & \\cos{\\left(\\omega_{eff} t \\right)}\\end{matrix}\\right]$"
      ],
      "text/plain": [
       "Eq(R_{C}(\\omega_{eff}*t), Matrix([\n",
       "[ cos(\\omega_{eff}*t), 0, sin(\\omega_{eff}*t)],\n",
       "[                   0, 1,                   0],\n",
       "[-sin(\\omega_{eff}*t), 0, cos(\\omega_{eff}*t)]]))"
      ]
     },
     "metadata": {},
     "output_type": "display_data"
    }
   ],
   "source": [
    "weff, beta, t, t2 = sp.symbols(\"\\omega_{eff} \\\\beta t t^'\")\n",
    "Om = sp.symbols(\"\\Omega\", real = True, positive = True)\n",
    "\n",
    "R_A = sp.Function(\"R_{A}\")(Om*t)\n",
    "R_B = sp.Function(\"R_{B}\")(beta)\n",
    "R_C = sp.Function(\"R_{C}\")(weff*t)\n",
    "\n",
    "#converts from F_lab to F_rot with frequency -Om*t\n",
    "# RA = sp.Matrix([[1, 0, 0 ], \n",
    "#                 [0, sp.cos(-Om*t), sp.sin(-Om*t) ], \n",
    "#                 [0, -sp.sin(-Om*t), sp.cos(-Om*t)] ])\n",
    "\n",
    "#converts from F_lab to F_rot with frequency Om*t\n",
    "RA = sp.Matrix([[1, 0, 0 ], \n",
    "                [0, sp.cos(Om*t), sp.sin(Om*t) ], \n",
    "                [0, -sp.sin(Om*t), sp.cos(Om*t)] ])\n",
    "display(sp.Eq(R_A, RA, evaluate=False))\n",
    "\n",
    "#converts from F_Rot to F_rot2 by angle beta\n",
    "RB = sp.Matrix([[sp.cos(beta), -sp.sin(beta), 0], \n",
    "                [sp.sin(beta),  sp.cos(beta), 0], \n",
    "                [0, 0, 1 ]])\n",
    "display(sp.Eq(R_B, RB, evaluate=False))\n",
    "\n",
    "#converts from F_rot2 to F_rot3 with frequency a*t = weff*t\n",
    "RC = sp.Matrix([[sp.cos(weff*t), 0, sp.sin(weff*t)], \n",
    "                 [0,1,0],\n",
    "                [-sp.sin(weff*t),0, sp.cos(weff*t)] ])\n",
    "display(sp.Eq(R_C, RC, evaluate=False))\n",
    "\n",
    "#quick check that these are proper rotation matrices\n",
    "# display(sp.simplify(RC.inv()), RC.T)"
   ]
  },
  {
   "cell_type": "code",
   "execution_count": 63,
   "id": "9282e194-ce2b-4b1f-908a-05b0edf0b732",
   "metadata": {},
   "outputs": [
    {
     "data": {
      "text/latex": [
       "$\\displaystyle P_{0} = \\left[\\begin{matrix}0\\\\P_{0}\\\\0\\end{matrix}\\right]$"
      ],
      "text/plain": [
       "Eq(P_0, Matrix([\n",
       "[  0],\n",
       "[P_0],\n",
       "[  0]]))"
      ]
     },
     "metadata": {},
     "output_type": "display_data"
    },
    {
     "data": {
      "text/latex": [
       "$\\displaystyle P_0|F_{rot3} = \\left[\\begin{matrix}- P_{0} \\sin{\\left(\\beta \\right)}\\\\P_{0} \\cos{\\left(\\beta \\right)}\\\\0\\end{matrix}\\right]$"
      ],
      "text/plain": [
       "Eq(P_0|F_{rot3}, Matrix([\n",
       "[-P_0*sin(\\beta)],\n",
       "[ P_0*cos(\\beta)],\n",
       "[              0]]))"
      ]
     },
     "metadata": {},
     "output_type": "display_data"
    }
   ],
   "source": [
    "P0 = sp.symbols(\"P_0\")\n",
    "P0FR2 = sp.symbols(\"P_0|F_{rot2}\")\n",
    "P0FR3 = sp.symbols(\"P_0|F_{rot3}\")\n",
    "\n",
    "#P(t=0) in the lab frame - only one static component\n",
    "#uncomment for the HFS calculation\n",
    "P_0_Flab = sp.Matrix([0,P0,0])\n",
    "\n",
    "#uncomment for the LFS calculation\n",
    "# P_0_Flab = sp.Matrix([0,-P0,0])\n",
    "\n",
    "display(sp.Eq(P0, P_0_Flab, evaluate=False))\n",
    "\n",
    "#switch frames - with t=0 for the rotation matrices I think\n",
    "P_0_FR3 = sp.simplify(RC.replace(t, 0)*RB*RA.replace(t, 0)*P_0_Flab)\n",
    "\n",
    "display(sp.Eq(P0FR3, P_0_FR3, evaluate=False))"
   ]
  },
  {
   "cell_type": "code",
   "execution_count": 64,
   "id": "65a3a644-a4a0-4f9a-b328-ffc6ccc051b0",
   "metadata": {},
   "outputs": [
    {
     "data": {
      "text/latex": [
       "$\\displaystyle P_{rot2}{\\left(t \\right)} = \\left[\\begin{matrix}- P_{0} \\sin{\\left(\\beta \\right)} \\cos{\\left(\\omega_{eff} t \\right)}\\\\P_{0} \\cos{\\left(\\beta \\right)}\\\\- P_{0} \\sin{\\left(\\beta \\right)} \\sin{\\left(\\omega_{eff} t \\right)}\\end{matrix}\\right]$"
      ],
      "text/plain": [
       "Eq(P_{rot2}(t), Matrix([\n",
       "[-P_0*sin(\\beta)*cos(\\omega_{eff}*t)],\n",
       "[                     P_0*cos(\\beta)],\n",
       "[-P_0*sin(\\beta)*sin(\\omega_{eff}*t)]]))"
      ]
     },
     "metadata": {},
     "output_type": "display_data"
    },
    {
     "data": {
      "text/latex": [
       "$\\displaystyle P_{rot}{\\left(t \\right)} = \\left[\\begin{matrix}P_{0} \\cdot \\left(1 - \\cos{\\left(\\omega_{eff} t \\right)}\\right) \\sin{\\left(\\beta \\right)} \\cos{\\left(\\beta \\right)}\\\\P_{0} \\left(\\sin^{2}{\\left(\\beta \\right)} \\cos{\\left(\\omega_{eff} t \\right)} + \\cos^{2}{\\left(\\beta \\right)}\\right)\\\\- P_{0} \\sin{\\left(\\beta \\right)} \\sin{\\left(\\omega_{eff} t \\right)}\\end{matrix}\\right]$"
      ],
      "text/plain": [
       "Eq(P_{rot}(t), Matrix([\n",
       "[    P_0*(1 - cos(\\omega_{eff}*t))*sin(\\beta)*cos(\\beta)],\n",
       "[P_0*(sin(\\beta)**2*cos(\\omega_{eff}*t) + cos(\\beta)**2)],\n",
       "[                    -P_0*sin(\\beta)*sin(\\omega_{eff}*t)]]))"
      ]
     },
     "metadata": {},
     "output_type": "display_data"
    },
    {
     "data": {
      "text/latex": [
       "$\\displaystyle P_{lab}{\\left(t \\right)} = \\left[\\begin{matrix}P_{0} \\cdot \\left(1 - \\cos{\\left(\\omega_{eff} t \\right)}\\right) \\sin{\\left(\\beta \\right)} \\cos{\\left(\\beta \\right)}\\\\P_{0} \\left(\\left(\\sin^{2}{\\left(\\beta \\right)} \\cos{\\left(\\omega_{eff} t \\right)} + \\cos^{2}{\\left(\\beta \\right)}\\right) \\cos{\\left(\\Omega t \\right)} + \\sin{\\left(\\beta \\right)} \\sin{\\left(\\Omega t \\right)} \\sin{\\left(\\omega_{eff} t \\right)}\\right)\\\\P_{0} \\left(\\left(\\sin^{2}{\\left(\\beta \\right)} \\cos{\\left(\\omega_{eff} t \\right)} + \\cos^{2}{\\left(\\beta \\right)}\\right) \\sin{\\left(\\Omega t \\right)} - \\sin{\\left(\\beta \\right)} \\sin{\\left(\\omega_{eff} t \\right)} \\cos{\\left(\\Omega t \\right)}\\right)\\end{matrix}\\right]$"
      ],
      "text/plain": [
       "Eq(P_{lab}(t), Matrix([\n",
       "[                                                                   P_0*(1 - cos(\\omega_{eff}*t))*sin(\\beta)*cos(\\beta)],\n",
       "[P_0*((sin(\\beta)**2*cos(\\omega_{eff}*t) + cos(\\beta)**2)*cos(\\Omega*t) + sin(\\beta)*sin(\\Omega*t)*sin(\\omega_{eff}*t))],\n",
       "[P_0*((sin(\\beta)**2*cos(\\omega_{eff}*t) + cos(\\beta)**2)*sin(\\Omega*t) - sin(\\beta)*sin(\\omega_{eff}*t)*cos(\\Omega*t))]]))"
      ]
     },
     "metadata": {},
     "output_type": "display_data"
    }
   ],
   "source": [
    "#now we have P(t=0) in the second rotating frame where we can solve the bloch\n",
    "#equation trivially\n",
    "PFR2 = sp.Function(\"P_{rot2}\")(t)\n",
    "P_t_FR2 = sp.simplify(RC.T*P_0_FR3)\n",
    "display(sp.Eq(PFR2, P_t_FR2, evaluate=False))\n",
    "\n",
    "PFR1 = sp.Function(\"P_{rot}\")(t)\n",
    "P_t_FR1 = sp.simplify(RB.T*P_t_FR2)\n",
    "display(sp.Eq(PFR1, P_t_FR1, evaluate=False))\n",
    "#these lines print out into plain latex to use in my latex doc\n",
    "# print(sp.latex(P_t_FR1))\n",
    "\n",
    "#and the final transformation to the lab frame\n",
    "Plab = sp.Function(\"P_{lab}\")(t)\n",
    "P_t_FRLab = sp.simplify(RA.T*P_t_FR1)\n",
    "\n",
    "display(sp.Eq(Plab, P_t_FRLab, evaluate=False))\n",
    "# print(sp.latex(P_t_FRLab))"
   ]
  },
  {
   "cell_type": "code",
   "execution_count": 65,
   "id": "69fe4e90-52ee-4fa8-b404-715cf9d2ddd2",
   "metadata": {},
   "outputs": [
    {
     "data": {
      "text/latex": [
       "$\\displaystyle \\left[\\begin{matrix}P_{0} \\left(\\cos{\\left(a t \\right)} - 1\\right) \\sin{\\left(\\beta \\right)} \\cos{\\left(\\beta \\right)}\\\\P_{0} \\left(\\left(\\sin^{2}{\\left(\\beta \\right)} \\cos{\\left(a t \\right)} + \\cos^{2}{\\left(\\beta \\right)}\\right) \\cos{\\left(\\Omega t \\right)} + \\sin{\\left(\\beta \\right)} \\sin{\\left(\\Omega t \\right)} \\sin{\\left(a t \\right)}\\right)\\\\P_{0} \\left(- \\left(\\sin^{2}{\\left(\\beta \\right)} \\cos{\\left(a t \\right)} + \\cos^{2}{\\left(\\beta \\right)}\\right) \\sin{\\left(\\Omega t \\right)} + \\sin{\\left(\\beta \\right)} \\sin{\\left(a t \\right)} \\cos{\\left(\\Omega t \\right)}\\right)\\end{matrix}\\right]$"
      ],
      "text/plain": [
       "Matrix([\n",
       "[                                                         P_0*(cos(a*t) - 1)*sin(\\beta)*cos(\\beta)],\n",
       "[ P_0*((sin(\\beta)**2*cos(a*t) + cos(\\beta)**2)*cos(\\Omega*t) + sin(\\beta)*sin(\\Omega*t)*sin(a*t))],\n",
       "[P_0*(-(sin(\\beta)**2*cos(a*t) + cos(\\beta)**2)*sin(\\Omega*t) + sin(\\beta)*sin(a*t)*cos(\\Omega*t))]])"
      ]
     },
     "metadata": {},
     "output_type": "display_data"
    }
   ],
   "source": [
    "\"\"\"\n",
    "testing Jeff's solution instead - It matches mine except for a change of a sign on x and z, \n",
    "once I switch the coordinates, using what I though was the correct counterclockwise rotation\n",
    "for F_lab to F_rot, but matches exactly if I use a clockwise rotaions\n",
    "\"\"\"\n",
    "a = sp.symbols(\"a\")\n",
    "P_t_FRLab_Jeff = sp.Matrix([ \n",
    "    P0*sp.sin(beta)*sp.cos(beta)*(sp.cos(a*t)-1),\n",
    "    P0*(sp.cos(Om*t)*(sp.sin(beta)**2*sp.cos(a*t)+sp.cos(beta)**2) + sp.sin(beta)*sp.sin(a*t)*sp.sin(Om*t)),\n",
    "    P0*(-sp.sin(Om*t)*(sp.sin(beta)**2*sp.cos(a*t)+sp.cos(beta)**2) + sp.sin(beta)*sp.sin(a*t)*sp.cos(Om*t))   \n",
    "    ])\n",
    "\n",
    "display(P_t_FRLab_Jeff)\n",
    "# P_t_FRLab = P_t_FRLab_Jeff"
   ]
  },
  {
   "cell_type": "code",
   "execution_count": 66,
   "id": "52a83e12-2411-4fe3-af68-28f6853297c4",
   "metadata": {},
   "outputs": [
    {
     "name": "stdout",
     "output_type": "stream",
     "text": [
      "Sub:\n"
     ]
    },
    {
     "data": {
      "text/latex": [
       "$\\displaystyle \\cos{\\left(\\beta \\right)} = \\frac{\\omega_{L}}{\\sqrt{\\Omega^{2} + \\omega_{L}^{2}}}$"
      ],
      "text/plain": [
       "Eq(cos(\\beta), \\omega_L/sqrt(\\Omega**2 + \\omega_L**2))"
      ]
     },
     "metadata": {},
     "output_type": "display_data"
    },
    {
     "data": {
      "text/latex": [
       "$\\displaystyle \\sin{\\left(\\beta \\right)} = \\frac{\\Omega}{\\sqrt{\\Omega^{2} + \\omega_{L}^{2}}}$"
      ],
      "text/plain": [
       "Eq(sin(\\beta), \\Omega/sqrt(\\Omega**2 + \\omega_L**2))"
      ]
     },
     "metadata": {},
     "output_type": "display_data"
    },
    {
     "data": {
      "text/latex": [
       "$\\displaystyle P_{lab}{\\left(t \\right)} = \\left[\\begin{matrix}\\frac{P_{0} \\Omega \\omega_{L} \\left(1 - \\cos{\\left(\\omega_{eff} t \\right)}\\right)}{\\Omega^{2} + \\omega_{L}^{2}}\\\\\\frac{P_{0} \\left(\\Omega \\left(\\Omega^{2} + \\omega_{L}^{2}\\right) \\sin{\\left(\\Omega t \\right)} \\sin{\\left(\\omega_{eff} t \\right)} + \\sqrt{\\Omega^{2} + \\omega_{L}^{2}} \\left(\\Omega^{2} \\cos{\\left(\\omega_{eff} t \\right)} + \\omega_{L}^{2}\\right) \\cos{\\left(\\Omega t \\right)}\\right)}{\\left(\\Omega^{2} + \\omega_{L}^{2}\\right)^{\\frac{3}{2}}}\\\\- \\frac{P_{0} \\left(\\Omega \\left(\\Omega^{2} + \\omega_{L}^{2}\\right) \\sin{\\left(\\omega_{eff} t \\right)} \\cos{\\left(\\Omega t \\right)} - \\sqrt{\\Omega^{2} + \\omega_{L}^{2}} \\left(\\Omega^{2} \\cos{\\left(\\omega_{eff} t \\right)} + \\omega_{L}^{2}\\right) \\sin{\\left(\\Omega t \\right)}\\right)}{\\left(\\Omega^{2} + \\omega_{L}^{2}\\right)^{\\frac{3}{2}}}\\end{matrix}\\right]$"
      ],
      "text/plain": [
       "Eq(P_{lab}(t), Matrix([\n",
       "[                                                                                                                               P_0*\\Omega*\\omega_L*(1 - cos(\\omega_{eff}*t))/(\\Omega**2 + \\omega_L**2)],\n",
       "[ P_0*(\\Omega*(\\Omega**2 + \\omega_L**2)*sin(\\Omega*t)*sin(\\omega_{eff}*t) + sqrt(\\Omega**2 + \\omega_L**2)*(\\Omega**2*cos(\\omega_{eff}*t) + \\omega_L**2)*cos(\\Omega*t))/(\\Omega**2 + \\omega_L**2)**(3/2)],\n",
       "[-P_0*(\\Omega*(\\Omega**2 + \\omega_L**2)*sin(\\omega_{eff}*t)*cos(\\Omega*t) - sqrt(\\Omega**2 + \\omega_L**2)*(\\Omega**2*cos(\\omega_{eff}*t) + \\omega_L**2)*sin(\\Omega*t))/(\\Omega**2 + \\omega_L**2)**(3/2)]]))"
      ]
     },
     "metadata": {},
     "output_type": "display_data"
    }
   ],
   "source": [
    "wL = sp.symbols(\"\\omega_L\")\n",
    "weff_sub = sp.sqrt(wL**2 + Om**2)\n",
    "\n",
    "#our first substitutions to make, to remove beta \n",
    "cos_b = wL/weff_sub\n",
    "sin_b = Om/weff_sub\n",
    "\n",
    "print(\"Sub:\")\n",
    "display(sp.Eq(sp.cos(beta), cos_b, evaluate=False), sp.Eq(sp.sin(beta), sin_b, evaluate=False))\n",
    "\n",
    "P_t_FRLab_betasub = sp.simplify(P_t_FRLab.replace(sp.cos(beta), cos_b).replace(sp.sin(beta), sin_b))\n",
    "\n",
    "display(sp.Eq(Plab, P_t_FRLab_betasub, evaluate=False))"
   ]
  },
  {
   "cell_type": "code",
   "execution_count": 67,
   "id": "3d4e71ad-69db-4478-8dec-daf5d35640ff",
   "metadata": {},
   "outputs": [],
   "source": [
    "#replacing a by it's definition - just for checking, this is really done in the next cell\n",
    "# print(\"Sub:\")\n",
    "# display(sp.Eq(a, a_sub, evaluate=False))\n",
    "\n",
    "# P_t_FRLab_Asub = sp.simplify(P_t_FRLab_betasub.replace(a, a_sub))\n",
    "\n",
    "# display(sp.Eq(Plab, P_t_FRLab_Asub, evaluate=False))"
   ]
  },
  {
   "cell_type": "markdown",
   "id": "f7c43905-abda-4187-ac82-ad7a9d2cc46d",
   "metadata": {},
   "source": [
    "now use $\\omega_{eff}=\\sqrt{ \\Omega^2 +\\omega_L^2} = \\Omega\\sqrt{1+k^2}$ and $k = \\omega_L/\\Omega$"
   ]
  },
  {
   "cell_type": "code",
   "execution_count": 68,
   "id": "155b1bd0-6ba7-4765-8ebb-89c0db41d2e7",
   "metadata": {},
   "outputs": [
    {
     "data": {
      "text/latex": [
       "$\\displaystyle P_{lab}{\\left(t \\right)} = \\left[\\begin{matrix}\\frac{P_{0} k \\left(1 - \\cos{\\left(\\Omega t \\sqrt{k^{2} + 1} \\right)}\\right)}{k^{2} + 1}\\\\\\frac{P_{0} \\left(\\sqrt{k^{2} + 1} \\left(k^{2} + \\cos{\\left(\\Omega t \\sqrt{k^{2} + 1} \\right)}\\right) \\cos{\\left(\\Omega t \\right)} + \\left(k^{2} + 1\\right) \\sin{\\left(\\Omega t \\right)} \\sin{\\left(\\Omega t \\sqrt{k^{2} + 1} \\right)}\\right)}{\\left(k^{2} + 1\\right)^{\\frac{3}{2}}}\\\\\\frac{P_{0} \\left(\\sqrt{k^{2} + 1} \\left(k^{2} + \\cos{\\left(\\Omega t \\sqrt{k^{2} + 1} \\right)}\\right) \\sin{\\left(\\Omega t \\right)} - \\left(k^{2} + 1\\right) \\sin{\\left(\\Omega t \\sqrt{k^{2} + 1} \\right)} \\cos{\\left(\\Omega t \\right)}\\right)}{\\left(k^{2} + 1\\right)^{\\frac{3}{2}}}\\end{matrix}\\right]$"
      ],
      "text/plain": [
       "Eq(P_{lab}(t), Matrix([\n",
       "[                                                                                               P_0*k*(1 - cos(\\Omega*t*sqrt(k**2 + 1)))/(k**2 + 1)],\n",
       "[P_0*(sqrt(k**2 + 1)*(k**2 + cos(\\Omega*t*sqrt(k**2 + 1)))*cos(\\Omega*t) + (k**2 + 1)*sin(\\Omega*t)*sin(\\Omega*t*sqrt(k**2 + 1)))/(k**2 + 1)**(3/2)],\n",
       "[P_0*(sqrt(k**2 + 1)*(k**2 + cos(\\Omega*t*sqrt(k**2 + 1)))*sin(\\Omega*t) - (k**2 + 1)*sin(\\Omega*t*sqrt(k**2 + 1))*cos(\\Omega*t))/(k**2 + 1)**(3/2)]]))"
      ]
     },
     "metadata": {},
     "output_type": "display_data"
    }
   ],
   "source": [
    "k = sp.symbols(\"k\", real = True, positive=True)\n",
    "#replacing all a and wL in terms of k and Omega\n",
    "weff_sub = Om*sp.sqrt(1 + k**2)\n",
    "sqrt = Om**2*(1 + k**2)\n",
    "\n",
    "P_t_FRLab_k1 = sp.simplify(P_t_FRLab_betasub.replace(weff, weff_sub).replace((Om**2+wL**2), sqrt))\n",
    "P_t_FRLab_k = sp.simplify(P_t_FRLab_k1.replace(wL, k*Om))\n",
    "\n",
    "display(sp.Eq(Plab, P_t_FRLab_k, evaluate=False))"
   ]
  },
  {
   "cell_type": "markdown",
   "id": "30534dad-d7ae-437e-9026-3ef826eefa4d",
   "metadata": {},
   "source": [
    "Now we know $t=\\theta / \\Omega$"
   ]
  },
  {
   "cell_type": "code",
   "execution_count": 69,
   "id": "c99a5d6e-a8fa-4aaa-9de3-7c8a24b1af4a",
   "metadata": {},
   "outputs": [
    {
     "data": {
      "text/latex": [
       "$\\displaystyle P_{lab}{\\left(k,\\theta \\right)} = \\left[\\begin{matrix}\\frac{P_{0} k \\left(1 - \\cos{\\left(\\theta \\sqrt{k^{2} + 1} \\right)}\\right)}{k^{2} + 1}\\\\\\frac{P_{0} \\left(\\sqrt{k^{2} + 1} \\left(k^{2} + \\cos{\\left(\\theta \\sqrt{k^{2} + 1} \\right)}\\right) \\cos{\\left(\\theta \\right)} + \\left(k^{2} + 1\\right) \\sin{\\left(\\theta \\right)} \\sin{\\left(\\theta \\sqrt{k^{2} + 1} \\right)}\\right)}{\\left(k^{2} + 1\\right)^{\\frac{3}{2}}}\\\\\\frac{P_{0} \\left(\\sqrt{k^{2} + 1} \\left(k^{2} + \\cos{\\left(\\theta \\sqrt{k^{2} + 1} \\right)}\\right) \\sin{\\left(\\theta \\right)} - \\left(k^{2} + 1\\right) \\sin{\\left(\\theta \\sqrt{k^{2} + 1} \\right)} \\cos{\\left(\\theta \\right)}\\right)}{\\left(k^{2} + 1\\right)^{\\frac{3}{2}}}\\end{matrix}\\right]$"
      ],
      "text/plain": [
       "Eq(P_{lab}(k, \\theta), Matrix([\n",
       "[                                                                                         P_0*k*(1 - cos(\\theta*sqrt(k**2 + 1)))/(k**2 + 1)],\n",
       "[P_0*(sqrt(k**2 + 1)*(k**2 + cos(\\theta*sqrt(k**2 + 1)))*cos(\\theta) + (k**2 + 1)*sin(\\theta)*sin(\\theta*sqrt(k**2 + 1)))/(k**2 + 1)**(3/2)],\n",
       "[P_0*(sqrt(k**2 + 1)*(k**2 + cos(\\theta*sqrt(k**2 + 1)))*sin(\\theta) - (k**2 + 1)*sin(\\theta*sqrt(k**2 + 1))*cos(\\theta))/(k**2 + 1)**(3/2)]]))"
      ]
     },
     "metadata": {},
     "output_type": "display_data"
    }
   ],
   "source": [
    "the = sp.symbols(\"\\\\theta\")\n",
    "Plab_k = sp.Function(\"P_{lab}\")(k, the)\n",
    "\n",
    "t_sub = the/Om\n",
    "\n",
    "P_t_FRLab_theta = sp.simplify(P_t_FRLab_k.replace(t, t_sub))\n",
    "\n",
    "display(sp.Eq(Plab_k, P_t_FRLab_theta, evaluate=False))\n",
    "# print(sp.latex(P_t_FRLab_theta))"
   ]
  },
  {
   "cell_type": "code",
   "execution_count": 70,
   "id": "4185be6c-dec5-4098-99b1-156ebe1a1398",
   "metadata": {},
   "outputs": [
    {
     "data": {
      "text/latex": [
       "$\\displaystyle P_{lab}{\\left(k,0 \\right)} = \\left[\\begin{matrix}0\\\\P_{0}\\\\0\\end{matrix}\\right]$"
      ],
      "text/plain": [
       "Eq(P_{lab}(k, 0), Matrix([\n",
       "[  0],\n",
       "[P_0],\n",
       "[  0]]))"
      ]
     },
     "metadata": {},
     "output_type": "display_data"
    }
   ],
   "source": [
    "#just a quick check for theta = 0, should equal our intial condition\n",
    "display(sp.Eq(Plab_k.replace(the, 0), sp.simplify(P_t_FRLab_theta.replace(the, 0)), \n",
    "              evaluate=False))"
   ]
  },
  {
   "cell_type": "markdown",
   "id": "2fc9878b-d1a0-4e18-bf19-6a265ba672ab",
   "metadata": {},
   "source": [
    "Now the angle of rotation that we want the magnetic field to actually go through is $\\theta = \\frac{\\pi}{2}$"
   ]
  },
  {
   "cell_type": "code",
   "execution_count": 71,
   "id": "7755a52e-c7ce-438d-9a92-7cf284e77e0a",
   "metadata": {},
   "outputs": [
    {
     "data": {
      "text/latex": [
       "$\\displaystyle P_{lab}{\\left(k,\\frac{\\pi}{2} \\right)} = \\left[\\begin{matrix}\\frac{P_{0} k \\left(1 - \\cos{\\left(\\frac{\\pi \\sqrt{k^{2} + 1}}{2} \\right)}\\right)}{k^{2} + 1}\\\\\\frac{P_{0} \\sin{\\left(\\frac{\\pi \\sqrt{k^{2} + 1}}{2} \\right)}}{\\sqrt{k^{2} + 1}}\\\\\\frac{P_{0} \\left(k^{2} + \\cos{\\left(\\frac{\\pi \\sqrt{k^{2} + 1}}{2} \\right)}\\right)}{k^{2} + 1}\\end{matrix}\\right]$"
      ],
      "text/plain": [
       "Eq(P_{lab}(k, pi/2), Matrix([\n",
       "[ P_0*k*(1 - cos(pi*sqrt(k**2 + 1)/2))/(k**2 + 1)],\n",
       "[     P_0*sin(pi*sqrt(k**2 + 1)/2)/sqrt(k**2 + 1)],\n",
       "[P_0*(k**2 + cos(pi*sqrt(k**2 + 1)/2))/(k**2 + 1)]]))"
      ]
     },
     "metadata": {},
     "output_type": "display_data"
    }
   ],
   "source": [
    "P_t_FRLab_90 = sp.simplify(P_t_FRLab_theta.replace(the, sp.pi/2))\n",
    "\n",
    "display(sp.Eq(Plab_k.replace(the, sp.pi/2), P_t_FRLab_90, evaluate=False))\n",
    "# print(sp.latex(P_t_FRLab_90))\n",
    "# print(sp.python(P_t_FRLab_90)) #for printing out in python code to copy to another file"
   ]
  },
  {
   "cell_type": "code",
   "execution_count": 72,
   "id": "c4371d9c-86f8-4d7a-8fbd-94d0051f26f0",
   "metadata": {},
   "outputs": [
    {
     "data": {
      "image/png": "[encoded data removed]",
      "text/plain": [
       "<Figure size 1200x400 with 3 Axes>"
      ]
     },
     "metadata": {},
     "output_type": "display_data"
    }
   ],
   "source": [
    "#plotting the polarization along each axis in terms of k\n",
    "k_arr = np.linspace(0, 20, 100)\n",
    "plt.rcParams.update({'font.size': 14})\n",
    "fig, axs = plt.subplots(1, 3, figsize=(12,4))\n",
    "\n",
    "P_t_FRLab_1 = P_t_FRLab_90[0].replace(P0, 1)\n",
    "P_t_FRLab_funct = sp.lambdify(k, P_t_FRLab_1)\n",
    "axs[0].plot(k_arr, P_t_FRLab_funct(k_arr))\n",
    "axs[0].set_xlabel('k')\n",
    "axs[0].set_ylabel('$P_x$')\n",
    "\n",
    "P_t_FRLab_1 = P_t_FRLab_90[1].replace(P0, 1)\n",
    "P_t_FRLab_funct = sp.lambdify(k, P_t_FRLab_1)\n",
    "axs[1].plot(k_arr, P_t_FRLab_funct(k_arr))\n",
    "axs[1].set_xlabel('k')\n",
    "axs[1].set_ylabel('$P_y$')\n",
    "\n",
    "P_t_FRLab_1 = P_t_FRLab_90[2].replace(P0, 1)\n",
    "P_t_FRLab_funct = sp.lambdify(k, P_t_FRLab_1)\n",
    "axs[2].plot(k_arr, P_t_FRLab_funct(k_arr))\n",
    "axs[2].set_xlabel('k')\n",
    "axs[2].set_ylabel('$P_z$')\n",
    "\n",
    "fig.tight_layout()\n",
    "axs[0].grid()\n",
    "axs[1].grid()\n",
    "axs[2].grid()\n",
    "plt.savefig('Photos/Kgraphs_analytic.pdf')\n",
    "plt.show()"
   ]
  },
  {
   "cell_type": "markdown",
   "id": "9aa2688f-d0cd-4197-b867-5261930a856b",
   "metadata": {},
   "source": [
    "## The Adiabatic parameter for straight paths\n",
    "A quick little graph for non-rotating spin transport. Here the equation is:\n",
    "\n",
    "$$\n",
    "P = 1 - e^{-\\pi k}\n",
    "$$\n",
    "\n",
    "Assuming first that the field is mainly along the axis of the neutron guide, $B_{\\|} \\gg B_{\\perp}$, the probably of depolarization, decreases exponentially with k."
   ]
  },
  {
   "cell_type": "code",
   "execution_count": 73,
   "id": "ff038065-de3b-4854-a953-d5a1c20f030e",
   "metadata": {},
   "outputs": [
    {
     "data": {
      "image/png": "[encoded data removed]",
      "text/plain": [
       "<Figure size 640x480 with 1 Axes>"
      ]
     },
     "metadata": {},
     "output_type": "display_data"
    }
   ],
   "source": [
    "#plotting the polarization along the intial axis in terms of k\n",
    "P_straight = lambda k: 1-np.exp(-np.pi*k)\n",
    "k_arr = np.linspace(0, 4, 100)\n",
    "\n",
    "plt.plot(k_arr, P_straight(k_arr))\n",
    "\n",
    "# P_straight = lambda k: 1-np.exp(-np.pi*k/2)\n",
    "# k_arr = np.linspace(0, 4, 100)\n",
    "\n",
    "# plt.plot(k_arr, P_straight(k_arr))\n",
    "\n",
    "plt.xlabel('k')\n",
    "plt.ylabel('$P_y$')\n",
    "plt.grid()\n",
    "plt.savefig('Photos/Kgraphs_analytic_straight.pdf')\n",
    "plt.show()"
   ]
  },
  {
   "cell_type": "code",
   "execution_count": null,
   "id": "da52172d-98aa-4dc7-9868-fdd7bca4c05c",
   "metadata": {},
   "outputs": [],
   "source": []
  }
 ],
 "metadata": {
  "kernelspec": {
   "display_name": "Python 3 (ipykernel)",
   "language": "python",
   "name": "python3"
  },
  "language_info": {
   "codemirror_mode": {
    "name": "ipython",
    "version": 3
   },
   "file_extension": ".py",
   "mimetype": "text/x-python",
   "name": "python",
   "nbconvert_exporter": "python",
   "pygments_lexer": "ipython3",
   "version": "3.8.15"
  }
 },
 "nbformat": 4,
 "nbformat_minor": 5
}
